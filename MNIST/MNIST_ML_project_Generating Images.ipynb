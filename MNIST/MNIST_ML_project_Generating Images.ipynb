{
  "nbformat": 4,
  "nbformat_minor": 0,
  "metadata": {
    "colab": {
      "name": "MNIST_ML_project1.ipynb",
      "provenance": [],
      "collapsed_sections": []
    },
    "kernelspec": {
      "display_name": "Python 3",
      "name": "python3"
    },
    "language_info": {
      "name": "python"
    },
    "accelerator": "GPU"
  },
  "cells": [
    {
      "cell_type": "code",
      "metadata": {
        "id": "-S2Ro9y3O3LY"
      },
      "source": [
        ""
      ],
      "execution_count": null,
      "outputs": []
    },
    {
      "cell_type": "code",
      "metadata": {
        "id": "JbzfYRXWLcep"
      },
      "source": [
        "\n",
        "#importing tensorflow modules\n",
        "\n",
        "import tensorflow as tf\n",
        "from tensorflow import keras\n",
        "import tensorflow.keras.layers as L\n",
        "import tensorflow.keras.models as M\n",
        "\n",
        "import numpy as np\n",
        "from sklearn.model_selection import train_test_split\n",
        "%matplotlib inline\n",
        "import matplotlib.pyplot as plt\n"
      ],
      "execution_count": 4,
      "outputs": []
    },
    {
      "cell_type": "code",
      "metadata": {
        "id": "EfHXfU60HUyW"
      },
      "source": [
        "import os\n"
      ],
      "execution_count": 3,
      "outputs": []
    },
    {
      "cell_type": "code",
      "metadata": {
        "id": "Y6a0LgQeIVCw"
      },
      "source": [
        "\n",
        "import pandas as pd\n",
        "import random\n",
        "import numpy as np\n",
        "from copy import deepcopy\n",
        "from tqdm import tqdm\n",
        "from copy import deepcopy\n"
      ],
      "execution_count": 2,
      "outputs": []
    },
    {
      "cell_type": "code",
      "metadata": {
        "colab": {
          "base_uri": "https://localhost:8080/"
        },
        "id": "a85l25RhWGxV",
        "outputId": "7bee00e4-4112-4e8a-a8a5-a4b7cb3acc05"
      },
      "source": [
        "from google.colab import drive\n",
        "drive.mount('/content/drive')"
      ],
      "execution_count": 1,
      "outputs": [
        {
          "output_type": "stream",
          "text": [
            "Mounted at /content/drive\n"
          ],
          "name": "stdout"
        }
      ]
    },
    {
      "cell_type": "code",
      "metadata": {
        "id": "ei94pWLjTgwE"
      },
      "source": [
        ""
      ],
      "execution_count": null,
      "outputs": []
    },
    {
      "cell_type": "code",
      "metadata": {
        "id": "ilB-spZKwj0L"
      },
      "source": [
        ""
      ],
      "execution_count": null,
      "outputs": []
    },
    {
      "cell_type": "code",
      "metadata": {
        "id": "aRIY3hShwjoO"
      },
      "source": [
        "(x_train, y_train), (x_test, y_test) = tf.keras.datasets.mnist.load_data()"
      ],
      "execution_count": 51,
      "outputs": []
    },
    {
      "cell_type": "code",
      "metadata": {
        "id": "721npSiUI5mb"
      },
      "source": [
        "x_train = x_train.reshape(x_train.shape[0], 28, 28, 1)\n",
        "x_test = x_test.reshape(x_test.shape[0], 28, 28, 1)"
      ],
      "execution_count": 52,
      "outputs": []
    },
    {
      "cell_type": "code",
      "metadata": {
        "id": "HRzPdKoAFMN6"
      },
      "source": [
        ""
      ],
      "execution_count": null,
      "outputs": []
    },
    {
      "cell_type": "code",
      "metadata": {
        "id": "d9LaO7AcszdP"
      },
      "source": [
        "imgXtrain = np.array(x_train / 255.0, dtype='float32')\n",
        "imgXtest = np.array(x_test / 255.0, dtype='float32')"
      ],
      "execution_count": 53,
      "outputs": []
    },
    {
      "cell_type": "code",
      "metadata": {
        "colab": {
          "base_uri": "https://localhost:8080/"
        },
        "id": "3qsuMJCz5azA",
        "outputId": "e76173a1-e930-4bb1-da58-012457567980"
      },
      "source": [
        ""
      ],
      "execution_count": 60,
      "outputs": [
        {
          "output_type": "execute_result",
          "data": {
            "text/plain": [
              "(28, 28, 1)"
            ]
          },
          "metadata": {
            "tags": []
          },
          "execution_count": 60
        }
      ]
    },
    {
      "cell_type": "code",
      "metadata": {
        "id": "qBCOZbvTo6xo"
      },
      "source": [
        "#35,35\n",
        "height = imgXtrain.shape[1]\n",
        "width = imgXtrain.shape[2]"
      ],
      "execution_count": 54,
      "outputs": []
    },
    {
      "cell_type": "code",
      "metadata": {
        "id": "4Pqn6D6jpV0n"
      },
      "source": [
        "del x_train,x_test"
      ],
      "execution_count": 56,
      "outputs": []
    },
    {
      "cell_type": "code",
      "metadata": {
        "id": "5rBcrTmXtg-A"
      },
      "source": [
        "\n",
        "imgXtrain, imgXval = train_test_split(imgXtrain, test_size=0.2, random_state=42)"
      ],
      "execution_count": 55,
      "outputs": []
    },
    {
      "cell_type": "code",
      "metadata": {
        "colab": {
          "base_uri": "https://localhost:8080/",
          "height": 441
        },
        "id": "3Q1HRS2TEFfI",
        "outputId": "2a73dc6a-9711-4951-d70f-ff0840c5fedd"
      },
      "source": [
        "plt.figure(figsize=(9,6))\n",
        "for i in range(20):\n",
        "    plt.subplot(4, 5, i+1)\n",
        "    plt.imshow(imgXtrain[i].reshape(height,width),cmap=\"gray\")\n",
        "    plt.xticks([])\n",
        "    plt.yticks([])\n",
        "plt.tight_layout()\n",
        "plt.show()\n",
        "\n",
        "# del imgX\n",
        "# import gc\n",
        "# gc.collect()"
      ],
      "execution_count": 62,
      "outputs": [
        {
          "output_type": "display_data",
          "data": {
            "image/png": "[encoded data removed]",
            "text/plain": [
              "<Figure size 648x432 with 20 Axes>"
            ]
          },
          "metadata": {
            "tags": []
          }
        }
      ]
    },
    {
      "cell_type": "code",
      "metadata": {
        "id": "i5-v6NP2pyxX"
      },
      "source": [
        ""
      ],
      "execution_count": null,
      "outputs": []
    },
    {
      "cell_type": "code",
      "metadata": {
        "id": "5EknED3UJK8Z"
      },
      "source": [
        "def generate_occluded(sample):\n",
        "  sample2 = deepcopy(sample)\n",
        "  sample2[:,(width//2)+1 :, :] = 0\n",
        "  return sample2\n",
        "# generate_occluded(imgXtrain[:2])"
      ],
      "execution_count": 14,
      "outputs": []
    },
    {
      "cell_type": "code",
      "metadata": {
        "id": "-J1F7pwDJK4x"
      },
      "source": [
        "def retrieve_first_half(sample,occ):\n",
        "\n",
        "  sample[:(width//2)+1, :] = occ[:(width//2)+1, :]\n",
        "\n"
      ],
      "execution_count": 15,
      "outputs": []
    },
    {
      "cell_type": "markdown",
      "metadata": {
        "id": "70klCYW_vD4o"
      },
      "source": [
        "# ENCODER-DECODER Without Any Convolutional Layers"
      ]
    },
    {
      "cell_type": "code",
      "metadata": {
        "id": "ux7FwcuIvgeb"
      },
      "source": [
        "IMG_SHAPE = imgXtrain.shape[1:]"
      ],
      "execution_count": 73,
      "outputs": []
    },
    {
      "cell_type": "code",
      "metadata": {
        "id": "id1_ZQlVvtP_"
      },
      "source": [
        "basic_code_size = 32"
      ],
      "execution_count": 17,
      "outputs": []
    },
    {
      "cell_type": "code",
      "metadata": {
        "id": "NSametWuqNCK"
      },
      "source": [
        "drive_path = \"/content/drive/MyDrive/ML_PROJECT\""
      ],
      "execution_count": null,
      "outputs": []
    },
    {
      "cell_type": "code",
      "metadata": {
        "id": "mzhlfS1Yq1Je"
      },
      "source": [
        "def enc_dec_basic_model(IMG_SHAPE,basic_code_size):\n",
        "  basic_enc = tf.keras.Sequential()\n",
        "  #input layer\n",
        "  basic_enc.add(tf.keras.layers.InputLayer(input_shape=IMG_SHAPE))\n",
        "  #flatten the image\n",
        "  basic_enc.add(tf.keras.layers.Flatten())\n",
        "  #fully connected layer                  \n",
        "  basic_enc.add(tf.keras.layers.Dense(basic_code_size))\n",
        "\n",
        "  ip = tf.keras.layers.Input(IMG_SHAPE)\n",
        "  encoder_op = basic_enc(ip)\n",
        "\n",
        "  basic_dec= tf.keras.Sequential()\n",
        "  basic_dec.add(tf.keras.layers.InputLayer(input_shape=(basic_code_size,)))\n",
        "  basic_dec.add(tf.keras.layers.Dense(np.prod(IMG_SHAPE)))  \n",
        "  #create image shape\n",
        "  basic_dec.add(tf.keras.layers.Reshape(IMG_SHAPE))\n",
        "\n",
        "  recreate_image = basic_dec(encoder_op)\n",
        "\n",
        "  return ip,recreate_image\n",
        "\n"
      ],
      "execution_count": 18,
      "outputs": []
    },
    {
      "cell_type": "code",
      "metadata": {
        "id": "7XZLVAOyWr4v"
      },
      "source": [
        ""
      ],
      "execution_count": 19,
      "outputs": []
    },
    {
      "cell_type": "code",
      "metadata": {
        "id": "k0QrJztyMpjQ"
      },
      "source": [
        ""
      ],
      "execution_count": 64,
      "outputs": []
    },
    {
      "cell_type": "code",
      "metadata": {
        "id": "I2-JEkPwSi3L"
      },
      "source": [
        "ip,recreate_image = enc_dec_basic_model(IMG_SHAPE,32)\n",
        "basic_model = M.Model(ip,recreate_image)\n",
        "basic_model.compile(optimizer='adam', loss='mse')"
      ],
      "execution_count": 65,
      "outputs": []
    },
    {
      "cell_type": "code",
      "metadata": {
        "colab": {
          "base_uri": "https://localhost:8080/"
        },
        "id": "NZWDijMayuuO",
        "outputId": "ffa46a34-5186-47ef-de04-6c4f88da13dc"
      },
      "source": [
        "hist1 = basic_model.fit(x=imgXtrain,y=imgXtrain, epochs=20,validation_data=(imgXval,imgXval))"
      ],
      "execution_count": 66,
      "outputs": [
        {
          "output_type": "stream",
          "text": [
            "Epoch 1/20\n",
            "1500/1500 [==============================] - 4s 2ms/step - loss: 0.0241 - val_loss: 0.0178\n",
            "Epoch 2/20\n",
            "1500/1500 [==============================] - 3s 2ms/step - loss: 0.0176 - val_loss: 0.0176\n",
            "Epoch 3/20\n",
            "1500/1500 [==============================] - 3s 2ms/step - loss: 0.0175 - val_loss: 0.0175\n",
            "Epoch 4/20\n",
            "1500/1500 [==============================] - 3s 2ms/step - loss: 0.0175 - val_loss: 0.0175\n",
            "Epoch 5/20\n",
            "1500/1500 [==============================] - 3s 2ms/step - loss: 0.0175 - val_loss: 0.0174\n",
            "Epoch 6/20\n",
            "1500/1500 [==============================] - 3s 2ms/step - loss: 0.0175 - val_loss: 0.0174\n",
            "Epoch 7/20\n",
            "1500/1500 [==============================] - 3s 2ms/step - loss: 0.0175 - val_loss: 0.0174\n",
            "Epoch 8/20\n",
            "1500/1500 [==============================] - 3s 2ms/step - loss: 0.0175 - val_loss: 0.0174\n",
            "Epoch 9/20\n",
            "1500/1500 [==============================] - 3s 2ms/step - loss: 0.0175 - val_loss: 0.0174\n",
            "Epoch 10/20\n",
            "1500/1500 [==============================] - 3s 2ms/step - loss: 0.0175 - val_loss: 0.0174\n",
            "Epoch 11/20\n",
            "1500/1500 [==============================] - 3s 2ms/step - loss: 0.0174 - val_loss: 0.0174\n",
            "Epoch 12/20\n",
            "1500/1500 [==============================] - 3s 2ms/step - loss: 0.0175 - val_loss: 0.0174\n",
            "Epoch 13/20\n",
            "1500/1500 [==============================] - 3s 2ms/step - loss: 0.0174 - val_loss: 0.0174\n",
            "Epoch 14/20\n",
            "1500/1500 [==============================] - 3s 2ms/step - loss: 0.0174 - val_loss: 0.0174\n",
            "Epoch 15/20\n",
            "1500/1500 [==============================] - 3s 2ms/step - loss: 0.0174 - val_loss: 0.0174\n",
            "Epoch 16/20\n",
            "1500/1500 [==============================] - 3s 2ms/step - loss: 0.0174 - val_loss: 0.0174\n",
            "Epoch 17/20\n",
            "1500/1500 [==============================] - 3s 2ms/step - loss: 0.0174 - val_loss: 0.0174\n",
            "Epoch 18/20\n",
            "1500/1500 [==============================] - 3s 2ms/step - loss: 0.0174 - val_loss: 0.0174\n",
            "Epoch 19/20\n",
            "1500/1500 [==============================] - 3s 2ms/step - loss: 0.0174 - val_loss: 0.0175\n",
            "Epoch 20/20\n",
            "1500/1500 [==============================] - 3s 2ms/step - loss: 0.0174 - val_loss: 0.0174\n"
          ],
          "name": "stdout"
        }
      ]
    },
    {
      "cell_type": "code",
      "metadata": {
        "colab": {
          "base_uri": "https://localhost:8080/"
        },
        "id": "QE3ZLyczj3l_",
        "outputId": "fd862351-497d-41ef-c298-e7d24df4704c"
      },
      "source": [
        "basic_model.evaluate(imgXtest,imgXtest)"
      ],
      "execution_count": 67,
      "outputs": [
        {
          "output_type": "stream",
          "text": [
            "313/313 [==============================] - 1s 2ms/step - loss: 0.0170\n"
          ],
          "name": "stdout"
        },
        {
          "output_type": "execute_result",
          "data": {
            "text/plain": [
              "0.017000705003738403"
            ]
          },
          "metadata": {
            "tags": []
          },
          "execution_count": 67
        }
      ]
    },
    {
      "cell_type": "code",
      "metadata": {
        "colab": {
          "base_uri": "https://localhost:8080/",
          "height": 299
        },
        "id": "qvjk0yBgyxsf",
        "outputId": "ce1b4472-f434-4e39-a537-849d5d31b24e"
      },
      "source": [
        "\n",
        "epochs_range = range(20)\n",
        "val_loss = hist1.history['val_loss']\n",
        "tr_loss = hist1.history['loss']\n",
        "plt.plot(epochs_range, tr_loss, label='Training Loss')\n",
        "plt.plot(epochs_range, val_loss, label='Validation Loss')\n",
        "plt.xlabel('Epoch')\n",
        "plt.ylabel('Loss')\n",
        "plt.ylim([0, (1+0.25)*max(max(tr_loss),max(val_loss))])\n",
        "plt.xlim([0, 20])\n",
        "\n",
        "plt.legend(loc='upper right')"
      ],
      "execution_count": 68,
      "outputs": [
        {
          "output_type": "execute_result",
          "data": {
            "text/plain": [
              "<matplotlib.legend.Legend at 0x7ff7a426ee90>"
            ]
          },
          "metadata": {
            "tags": []
          },
          "execution_count": 68
        },
        {
          "output_type": "display_data",
          "data": {
            "image/png": "[encoded data removed]",
            "text/plain": [
              "<Figure size 432x288 with 1 Axes>"
            ]
          },
          "metadata": {
            "tags": [],
            "needs_background": "light"
          }
        }
      ]
    },
    {
      "cell_type": "code",
      "metadata": {
        "id": "53uszair1Kvy"
      },
      "source": [
        ""
      ],
      "execution_count": null,
      "outputs": []
    },
    {
      "cell_type": "code",
      "metadata": {
        "colab": {
          "base_uri": "https://localhost:8080/",
          "height": 328
        },
        "id": "FTJ2NJWMba8M",
        "outputId": "79f113a8-fe95-471c-e840-348d24918de3"
      },
      "source": [
        "plt.figure(figsize=(9,6))\n",
        "for i in range(5):\n",
        "  enc_op = basic_model.layers[1].predict(imgXval[i][None])[0]\n",
        "  dec_op = basic_model.layers[2].predict(enc_op[None])[0]\n",
        "  plt.subplot(2,5,i+1)\n",
        "  plt.title(\"Original\")\n",
        "  plt.imshow(np.clip(imgXval[i].reshape(height,width),0,1),cmap='gray')\n",
        "  plt.subplot(2,5,i+6)\n",
        "  plt.title(\"Generated\")\n",
        "  plt.imshow(np.clip(dec_op,0,1),cmap='gray')\n",
        "plt.show()"
      ],
      "execution_count": 71,
      "outputs": [
        {
          "output_type": "display_data",
          "data": {
            "image/png": "[encoded data removed]",
            "text/plain": [
              "<Figure size 648x432 with 10 Axes>"
            ]
          },
          "metadata": {
            "tags": [],
            "needs_background": "light"
          }
        }
      ]
    },
    {
      "cell_type": "code",
      "metadata": {
        "id": "xFeObpUFLTBJ"
      },
      "source": [
        "occXtest = generate_occluded(imgXtest)"
      ],
      "execution_count": 34,
      "outputs": []
    },
    {
      "cell_type": "code",
      "metadata": {
        "id": "v2tcgxNJLl0W"
      },
      "source": [
        "ip_64,recreate_image_64 = enc_dec_basic_model(IMG_SHAPE,64)\n",
        "occ_basic_model_64 = M.Model(ip_64,recreate_image_64)\n",
        "occ_basic_model_64.compile(optimizer='adam', loss='mse')"
      ],
      "execution_count": 41,
      "outputs": []
    },
    {
      "cell_type": "code",
      "metadata": {
        "id": "Vv-gOHhOLcE9"
      },
      "source": [
        "del occ_basic_model_64"
      ],
      "execution_count": 40,
      "outputs": []
    },
    {
      "cell_type": "code",
      "metadata": {
        "colab": {
          "base_uri": "https://localhost:8080/"
        },
        "id": "qh-pm_j-LZ4U",
        "outputId": "463368ff-ac5c-4c8f-8019-9c63620f44f6"
      },
      "source": [
        "tr_loss=[]\n",
        "vl_loss=[]\n",
        "for i in range(10):\n",
        "  print(\"epoch : {}\".format(i+1))\n",
        "  occXtrain = generate_occluded(imgXtrain)\n",
        "  occXval = generate_occluded(imgXval)\n",
        "  l = occ_basic_model_64.fit(x=occXtrain,y=imgXtrain, epochs=1,validation_data=(occXval,imgXval))\n",
        "  tr_loss.append(l.history[\"loss\"])\n",
        "  vl_loss.append(l.history[\"val_loss\"])\n",
        "\n"
      ],
      "execution_count": 42,
      "outputs": [
        {
          "output_type": "stream",
          "text": [
            "epoch : 1\n",
            "1500/1500 [==============================] - 4s 2ms/step - loss: 0.0299 - val_loss: 0.0247\n",
            "epoch : 2\n",
            "1500/1500 [==============================] - 3s 2ms/step - loss: 0.0242 - val_loss: 0.0238\n",
            "epoch : 3\n",
            "1500/1500 [==============================] - 3s 2ms/step - loss: 0.0238 - val_loss: 0.0238\n",
            "epoch : 4\n",
            "1500/1500 [==============================] - 4s 2ms/step - loss: 0.0237 - val_loss: 0.0237\n",
            "epoch : 5\n",
            "1500/1500 [==============================] - 3s 2ms/step - loss: 0.0237 - val_loss: 0.0237\n",
            "epoch : 6\n",
            "1500/1500 [==============================] - 3s 2ms/step - loss: 0.0237 - val_loss: 0.0236\n",
            "epoch : 7\n",
            "1500/1500 [==============================] - 3s 2ms/step - loss: 0.0237 - val_loss: 0.0237\n",
            "epoch : 8\n",
            "1500/1500 [==============================] - 3s 2ms/step - loss: 0.0237 - val_loss: 0.0236\n",
            "epoch : 9\n",
            "1500/1500 [==============================] - 3s 2ms/step - loss: 0.0236 - val_loss: 0.0237\n",
            "epoch : 10\n",
            "1500/1500 [==============================] - 3s 2ms/step - loss: 0.0236 - val_loss: 0.0237\n"
          ],
          "name": "stdout"
        }
      ]
    },
    {
      "cell_type": "code",
      "metadata": {
        "id": "QZAjVyVEkZ7C",
        "colab": {
          "base_uri": "https://localhost:8080/",
          "height": 296
        },
        "outputId": "475402bd-5f95-4bd5-bfb9-a7b92f917605"
      },
      "source": [
        "\n",
        "\n",
        "epochs_range = range(10)\n",
        "\n",
        "plt.plot(epochs_range, tr_loss, label='Training Loss')\n",
        "plt.plot(epochs_range, vl_loss, label='Validation Loss')\n",
        "plt.xlabel('Epoch')\n",
        "plt.ylabel('Loss')\n",
        "plt.ylim([0, 1.25 * max(max(tr_loss),max(vl_loss))[0] ])\n",
        "plt.xlim([0, 10])\n",
        "\n",
        "plt.legend(loc='upper right')"
      ],
      "execution_count": 43,
      "outputs": [
        {
          "output_type": "execute_result",
          "data": {
            "text/plain": [
              "<matplotlib.legend.Legend at 0x7ff7a2ed1a90>"
            ]
          },
          "metadata": {
            "tags": []
          },
          "execution_count": 43
        },
        {
          "output_type": "display_data",
          "data": {
            "image/png": "[encoded data removed]",
            "text/plain": [
              "<Figure size 432x288 with 1 Axes>"
            ]
          },
          "metadata": {
            "tags": [],
            "needs_background": "light"
          }
        }
      ]
    },
    {
      "cell_type": "code",
      "metadata": {
        "id": "lkWP2PCHS87J",
        "colab": {
          "base_uri": "https://localhost:8080/",
          "height": 381
        },
        "outputId": "18b23cbb-3826-4391-ed63-a2e2851d9c1a"
      },
      "source": [
        "plt.figure(figsize=(9,6))\n",
        "for i in range(5):\n",
        "  oenc_op2 = occ_basic_model_64.layers[1].predict(occXval[i][None])[0]\n",
        "  odec_op2 = occ_basic_model_64.layers[2].predict(oenc_op2[None])[0]\n",
        "  retrieve_first_half(odec_op2,occXval[i])\n",
        "  plt.subplot(3,5,i+1)\n",
        "  plt.title(\"Occluded\")\n",
        "  plt.imshow(np.clip(occXval[i],0,1),cmap='gray')\n",
        "  plt.subplot(3,5,i+6)\n",
        "  plt.title(\"Generated\")\n",
        "  plt.imshow(np.clip(odec_op2,0,1),cmap='gray')\n",
        "  plt.subplot(3,5,i+11)\n",
        "  plt.title(\"Original\")\n",
        "  plt.imshow(np.clip(imgXval[i],0,1),cmap='gray')\n",
        "plt.show()"
      ],
      "execution_count": 45,
      "outputs": [
        {
          "output_type": "display_data",
          "data": {
            "image/png": "[encoded data removed]",
            "text/plain": [
              "<Figure size 648x432 with 15 Axes>"
            ]
          },
          "metadata": {
            "tags": [],
            "needs_background": "light"
          }
        }
      ]
    },
    {
      "cell_type": "code",
      "metadata": {
        "id": "8x7hFwgLS9Wc",
        "colab": {
          "base_uri": "https://localhost:8080/"
        },
        "outputId": "c2ad9551-9028-4934-e821-2de9e2c41131"
      },
      "source": [
        "occ_basic_model_64.evaluate(occXtest,imgXtest)"
      ],
      "execution_count": 46,
      "outputs": [
        {
          "output_type": "stream",
          "text": [
            "313/313 [==============================] - 1s 2ms/step - loss: 0.0234\n"
          ],
          "name": "stdout"
        },
        {
          "output_type": "execute_result",
          "data": {
            "text/plain": [
              "0.023388268426060677"
            ]
          },
          "metadata": {
            "tags": []
          },
          "execution_count": 46
        }
      ]
    },
    {
      "cell_type": "code",
      "metadata": {
        "id": "_WUYMtRwS83y"
      },
      "source": [
        ""
      ],
      "execution_count": null,
      "outputs": []
    },
    {
      "cell_type": "markdown",
      "metadata": {
        "id": "1CYNVcDjkaki"
      },
      "source": [
        "## Developing deep CNN based Model"
      ]
    },
    {
      "cell_type": "code",
      "metadata": {
        "id": "9csn9-8nkgZG"
      },
      "source": [
        "def deep_cnn_model(img_shape, latent_dim):\n",
        "\n",
        "    # encoder\n",
        "    encoder = tf.keras.Sequential()\n",
        "    encoder.add(tf.keras.layers.InputLayer(img_shape))\n",
        "    encoder.add(tf.keras.layers.Conv2D(32, input_shape=img_shape, kernel_size=(5, 5), activation='relu', padding='same'))\n",
        "    encoder.add(tf.keras.layers.MaxPooling2D(pool_size=(2, 2)))\n",
        "\n",
        "    encoder.add(tf.keras.layers.Conv2D(64, input_shape=img_shape[1:], kernel_size=(5, 5), activation='relu', padding='same'))\n",
        "    encoder.add(tf.keras.layers.MaxPooling2D(pool_size=(2, 2)))\n",
        "\n",
        "    encoder.add(\n",
        "        tf.keras.layers.Conv2D(128, input_shape=img_shape[1:], kernel_size=(5, 5), activation='relu', padding='same'))\n",
        "\n",
        "    encoder.add(tf.keras.layers.MaxPooling2D(pool_size=(2, 2)))\n",
        "\n",
        "    encoder.add(\n",
        "        tf.keras.layers.Conv2D(256, input_shape=img_shape[1:], kernel_size=(5, 5), activation='relu', padding='same'))\n",
        "    encoder.add(tf.keras.layers.MaxPooling2D(pool_size=(2, 2)))\n",
        "    encoder.add(tf.keras.layers.Flatten())\n",
        "    encoder.add(tf.keras.layers.Dense(latent_dim))\n",
        "\n",
        "    # decoder\n",
        "    decoder = tf.keras.Sequential()\n",
        "    decoder.add(L.InputLayer((latent_dim,)))\n",
        "    decoder.add(L.Dense(np.prod(img_shape)))\n",
        "    decoder.add(L.Reshape(img_shape))\n",
        "\n",
        "    decoder.add(L.Conv2DTranspose(128, input_shape=img_shape, kernel_size=(5, 5), activation='relu', padding='same'))\n",
        "\n",
        "    decoder.add(L.Conv2DTranspose(64, input_shape=img_shape, kernel_size=(5, 5), activation='relu', padding='same'))\n",
        "\n",
        "    decoder.add(L.Conv2DTranspose(32, input_shape=img_shape, kernel_size=(5, 5), activation='relu', padding='same'))\n",
        "\n",
        "    decoder.add(L.Conv2DTranspose(3, input_shape=img_shape, kernel_size=(5, 5), activation=None, padding='same'))\n",
        "\n",
        "    return encoder, decoder"
      ],
      "execution_count": 47,
      "outputs": []
    },
    {
      "cell_type": "code",
      "metadata": {
        "id": "wR2EUV1Tvknu"
      },
      "source": [
        "# del deep_model_32,cnn_encoder_32,cnn_decoder_32"
      ],
      "execution_count": null,
      "outputs": []
    },
    {
      "cell_type": "code",
      "metadata": {
        "id": "m_ig-HmSdVag"
      },
      "source": [
        "cnn_encoder_32, cnn_decoder_32 = deep_cnn_model(IMG_SHAPE, latent_dim=32)"
      ],
      "execution_count": 74,
      "outputs": []
    },
    {
      "cell_type": "code",
      "metadata": {
        "id": "3sDHQYg_klxF"
      },
      "source": [
        "\n",
        "inp_32 = tf.keras.layers.Input(IMG_SHAPE)\n",
        "enc_op_32 = cnn_encoder_32(inp_32)\n",
        "dec_op_32 = cnn_decoder_32(enc_op_32)\n",
        "\n",
        "deep_model_32 = tf.keras.models.Model(inp_32,dec_op_32)\n",
        "deep_model_32.compile(optimizer=\"adamax\", loss='mse')\n"
      ],
      "execution_count": 75,
      "outputs": []
    },
    {
      "cell_type": "code",
      "metadata": {
        "colab": {
          "base_uri": "https://localhost:8080/"
        },
        "id": "tYTCmNITlJvG",
        "outputId": "80013438-818b-4168-fac7-a23ae2570cac"
      },
      "source": [
        "hist_32 = deep_model_32.fit(x=imgXtrain,y=imgXtrain, epochs=15,validation_data=(imgXval,imgXval))"
      ],
      "execution_count": 76,
      "outputs": [
        {
          "output_type": "stream",
          "text": [
            "Epoch 1/15\n",
            "1500/1500 [==============================] - 73s 31ms/step - loss: 0.0206 - val_loss: 0.0095\n",
            "Epoch 2/15\n",
            "1500/1500 [==============================] - 46s 30ms/step - loss: 0.0075 - val_loss: 0.0062\n",
            "Epoch 3/15\n",
            "1500/1500 [==============================] - 45s 30ms/step - loss: 0.0055 - val_loss: 0.0051\n",
            "Epoch 4/15\n",
            "1500/1500 [==============================] - 46s 30ms/step - loss: 0.0047 - val_loss: 0.0045\n",
            "Epoch 5/15\n",
            "1500/1500 [==============================] - 48s 32ms/step - loss: 0.0042 - val_loss: 0.0041\n",
            "Epoch 6/15\n",
            "1500/1500 [==============================] - 46s 31ms/step - loss: 0.0039 - val_loss: 0.0039\n",
            "Epoch 7/15\n",
            "1500/1500 [==============================] - 46s 31ms/step - loss: 0.0037 - val_loss: 0.0036\n",
            "Epoch 8/15\n",
            "1500/1500 [==============================] - 48s 32ms/step - loss: 0.0035 - val_loss: 0.0036\n",
            "Epoch 9/15\n",
            "1500/1500 [==============================] - 48s 32ms/step - loss: 0.0034 - val_loss: 0.0034\n",
            "Epoch 10/15\n",
            "1500/1500 [==============================] - 46s 31ms/step - loss: 0.0033 - val_loss: 0.0034\n",
            "Epoch 11/15\n",
            "1500/1500 [==============================] - 48s 32ms/step - loss: 0.0032 - val_loss: 0.0032\n",
            "Epoch 12/15\n",
            "1500/1500 [==============================] - 48s 32ms/step - loss: 0.0031 - val_loss: 0.0032\n",
            "Epoch 13/15\n",
            "1500/1500 [==============================] - 48s 32ms/step - loss: 0.0030 - val_loss: 0.0031\n",
            "Epoch 14/15\n",
            "1500/1500 [==============================] - 48s 32ms/step - loss: 0.0030 - val_loss: 0.0031\n",
            "Epoch 15/15\n",
            "1500/1500 [==============================] - 46s 31ms/step - loss: 0.0029 - val_loss: 0.0031\n"
          ],
          "name": "stdout"
        }
      ]
    },
    {
      "cell_type": "code",
      "metadata": {
        "colab": {
          "base_uri": "https://localhost:8080/",
          "height": 328
        },
        "id": "hav71YvdtJSZ",
        "outputId": "71e341cf-016c-4c7d-d1eb-31fc37180008"
      },
      "source": [
        "plt.figure(figsize=(9,6))\n",
        "for i in range(5):\n",
        "  enc_op = cnn_encoder_32.predict(imgXval[i][None])[0]\n",
        "  dec_op = cnn_decoder_32.predict(enc_op[None])[0]\n",
        "  plt.subplot(2,5,i+1)\n",
        "  plt.title(\"Original\")\n",
        "  plt.imshow(np.clip(imgXval[i].reshape(height,width),0,1),cmap='gray')\n",
        "  plt.subplot(2,5,i+6)\n",
        "  plt.title(\"Generated\")\n",
        "  plt.imshow(np.clip(dec_op,0,1),cmap='gray')\n",
        "plt.show()"
      ],
      "execution_count": 78,
      "outputs": [
        {
          "output_type": "display_data",
          "data": {
            "image/png": "[encoded data removed]",
            "text/plain": [
              "<Figure size 648x432 with 10 Axes>"
            ]
          },
          "metadata": {
            "tags": [],
            "needs_background": "light"
          }
        }
      ]
    },
    {
      "cell_type": "code",
      "metadata": {
        "colab": {
          "base_uri": "https://localhost:8080/"
        },
        "id": "zFCSvutBq8Gj",
        "outputId": "b9f09c5b-97ce-436e-bf9d-cbf3f8dc88a2"
      },
      "source": [
        "tf.keras.models.save_model(deep_model_32,drive_path+\"/mnist_deep_model_32\")"
      ],
      "execution_count": 80,
      "outputs": [
        {
          "output_type": "stream",
          "text": [
            "INFO:tensorflow:Assets written to: /content/drive/MyDrive/ML_PROJECT/mnist_deep_model_32/assets\n"
          ],
          "name": "stdout"
        }
      ]
    },
    {
      "cell_type": "code",
      "metadata": {
        "id": "tSeUSD3StObW"
      },
      "source": [
        "load_32 = tf.keras.models.load_model(drive_path+\"/mnist_deep_model_32\")"
      ],
      "execution_count": 81,
      "outputs": []
    },
    {
      "cell_type": "code",
      "metadata": {
        "colab": {
          "base_uri": "https://localhost:8080/"
        },
        "id": "2L5HPBECteg3",
        "outputId": "cf9338c6-a4eb-4924-d616-8f5e21fc17d7"
      },
      "source": [
        "load_32.evaluate(imgXtest, imgXtest)"
      ],
      "execution_count": 84,
      "outputs": [
        {
          "output_type": "stream",
          "text": [
            "313/313 [==============================] - 3s 9ms/step - loss: 0.0030\n"
          ],
          "name": "stdout"
        },
        {
          "output_type": "execute_result",
          "data": {
            "text/plain": [
              "0.00303779193200171"
            ]
          },
          "metadata": {
            "tags": []
          },
          "execution_count": 84
        }
      ]
    },
    {
      "cell_type": "code",
      "metadata": {
        "colab": {
          "base_uri": "https://localhost:8080/",
          "height": 296
        },
        "id": "K5oRIT4Stsm2",
        "outputId": "704bdc15-27ec-4503-e59b-5e6c315cbf7d"
      },
      "source": [
        "\n",
        "epochs_range = range(15)\n",
        "val_loss = hist_32.history['val_loss']\n",
        "tr_loss = hist_32.history['loss']\n",
        "plt.plot(epochs_range, tr_loss, label='Training Loss')\n",
        "plt.plot(epochs_range, val_loss, label='Validation Loss')\n",
        "plt.xlabel('Epoch')\n",
        "plt.ylabel('Loss')\n",
        "plt.ylim([0, (1+0.25)*max(max(tr_loss),max(val_loss))])\n",
        "plt.xlim([0, 15])\n",
        "\n",
        "plt.legend(loc='upper right')"
      ],
      "execution_count": 85,
      "outputs": [
        {
          "output_type": "execute_result",
          "data": {
            "text/plain": [
              "<matplotlib.legend.Legend at 0x7ff7a763d0d0>"
            ]
          },
          "metadata": {
            "tags": []
          },
          "execution_count": 85
        },
        {
          "output_type": "display_data",
          "data": {
            "image/png": "[encoded data removed]",
            "text/plain": [
              "<Figure size 432x288 with 1 Axes>"
            ]
          },
          "metadata": {
            "tags": [],
            "needs_background": "light"
          }
        }
      ]
    },
    {
      "cell_type": "markdown",
      "metadata": {
        "id": "WTI0zopuVS21"
      },
      "source": [
        "# OCCLUSION STARTS"
      ]
    },
    {
      "cell_type": "code",
      "metadata": {
        "id": "8B9ht2_WnkVb"
      },
      "source": [
        "del occ_cnn_encoder_64,occ_cnn_decoder_64,occ_deep_model_64"
      ],
      "execution_count": 93,
      "outputs": []
    },
    {
      "cell_type": "code",
      "metadata": {
        "id": "_KhYnJitgZRz"
      },
      "source": [
        "tf.keras.backend.clear_session()\n",
        "occ_cnn_encoder_64, occ_cnn_decoder_64 = deep_cnn_model(IMG_SHAPE, latent_dim=32)\n",
        "\n",
        "inp_64 = tf.keras.layers.Input(IMG_SHAPE)\n",
        "occ_enc_op_64 = occ_cnn_encoder_64(inp_64)\n",
        "occ_dec_op_64 = occ_cnn_decoder_64(occ_enc_op_64)\n",
        "\n",
        "occ_deep_model_64 = tf.keras.models.Model(inp_64,occ_dec_op_64)\n",
        "occ_deep_model_64.compile(optimizer=\"adam\", loss='mse')"
      ],
      "execution_count": 94,
      "outputs": []
    },
    {
      "cell_type": "code",
      "metadata": {
        "colab": {
          "base_uri": "https://localhost:8080/"
        },
        "id": "0RaRQiemZrtv",
        "outputId": "7cc696db-e93b-4fed-ddb4-dbea5cf35250"
      },
      "source": [
        "tr_loss=[]\n",
        "vl_loss=[]\n",
        "for i in range(15):\n",
        "  print(\"epoch : {}\".format(i+1))\n",
        "  occXtrain = generate_occluded(imgXtrain)\n",
        "  occXval = generate_occluded(imgXval)\n",
        "  l = occ_deep_model_64.fit(x=occXtrain,y=imgXtrain, epochs=1,validation_data=(occXval,imgXval))\n",
        "  tr_loss.append(l.history[\"loss\"])\n",
        "  vl_loss.append(l.history[\"val_loss\"])"
      ],
      "execution_count": 95,
      "outputs": [
        {
          "output_type": "stream",
          "text": [
            "epoch : 1\n",
            "1500/1500 [==============================] - 46s 30ms/step - loss: 0.0307 - val_loss: 0.0204\n",
            "epoch : 2\n",
            "1500/1500 [==============================] - 45s 30ms/step - loss: 0.0185 - val_loss: 0.0179\n",
            "epoch : 3\n",
            "1500/1500 [==============================] - 44s 30ms/step - loss: 0.0168 - val_loss: 0.0164\n",
            "epoch : 4\n",
            "1500/1500 [==============================] - 47s 31ms/step - loss: 0.0159 - val_loss: 0.0157\n",
            "epoch : 5\n",
            "1500/1500 [==============================] - 45s 30ms/step - loss: 0.0152 - val_loss: 0.0157\n",
            "epoch : 6\n",
            "1500/1500 [==============================] - 45s 30ms/step - loss: 0.0148 - val_loss: 0.0158\n",
            "epoch : 7\n",
            "1500/1500 [==============================] - 45s 30ms/step - loss: 0.0144 - val_loss: 0.0152\n",
            "epoch : 8\n",
            "1500/1500 [==============================] - 45s 30ms/step - loss: 0.0140 - val_loss: 0.0152\n",
            "epoch : 9\n",
            "1500/1500 [==============================] - 47s 32ms/step - loss: 0.0137 - val_loss: 0.0148\n",
            "epoch : 10\n",
            "1500/1500 [==============================] - 48s 32ms/step - loss: 0.0135 - val_loss: 0.0148\n",
            "epoch : 11\n",
            "1500/1500 [==============================] - 47s 31ms/step - loss: 0.0132 - val_loss: 0.0147\n",
            "epoch : 12\n",
            "1500/1500 [==============================] - 47s 31ms/step - loss: 0.0130 - val_loss: 0.0146\n",
            "epoch : 13\n",
            "1500/1500 [==============================] - 47s 32ms/step - loss: 0.0127 - val_loss: 0.0150\n",
            "epoch : 14\n",
            "1500/1500 [==============================] - 48s 32ms/step - loss: 0.0125 - val_loss: 0.0149\n",
            "epoch : 15\n",
            "1500/1500 [==============================] - 45s 30ms/step - loss: 0.0123 - val_loss: 0.0151\n"
          ],
          "name": "stdout"
        }
      ]
    },
    {
      "cell_type": "code",
      "metadata": {
        "colab": {
          "base_uri": "https://localhost:8080/"
        },
        "id": "kKbttYC7thsB",
        "outputId": "bed32815-89ad-4d4d-fa68-9af3af935b6a"
      },
      "source": [
        "tf.keras.models.save_model(occ_deep_model_64,drive_path+\"/mnist_occ_deep_model_32\")"
      ],
      "execution_count": 96,
      "outputs": [
        {
          "output_type": "stream",
          "text": [
            "INFO:tensorflow:Assets written to: /content/drive/MyDrive/ML_PROJECT/mnist_occ_deep_model_32/assets\n"
          ],
          "name": "stdout"
        }
      ]
    },
    {
      "cell_type": "code",
      "metadata": {
        "id": "pfm69rIhbAno"
      },
      "source": [
        "occXtest = generate_occluded(imgXtest)\n"
      ],
      "execution_count": 89,
      "outputs": []
    },
    {
      "cell_type": "code",
      "metadata": {
        "colab": {
          "base_uri": "https://localhost:8080/"
        },
        "id": "fYBgtMG2Uegh",
        "outputId": "6d16d2bf-4f15-43b0-ff79-49c9a6d5d0fe"
      },
      "source": [
        "occ_deep_model_64.evaluate(occXtest,imgXtest)"
      ],
      "execution_count": 97,
      "outputs": [
        {
          "output_type": "stream",
          "text": [
            "313/313 [==============================] - 3s 10ms/step - loss: 0.0150\n"
          ],
          "name": "stdout"
        },
        {
          "output_type": "execute_result",
          "data": {
            "text/plain": [
              "0.015031781047582626"
            ]
          },
          "metadata": {
            "tags": []
          },
          "execution_count": 97
        }
      ]
    },
    {
      "cell_type": "code",
      "metadata": {
        "colab": {
          "base_uri": "https://localhost:8080/",
          "height": 296
        },
        "id": "aerU4suob0b6",
        "outputId": "4e184cc9-84ee-45bc-a670-eecb267bc9f3"
      },
      "source": [
        "\n",
        "epochs_range = range(15)\n",
        "\n",
        "plt.plot(epochs_range, tr_loss, label='Training Loss')\n",
        "plt.plot(epochs_range, vl_loss, label='Validation Loss')\n",
        "plt.xlabel('Epoch')\n",
        "plt.ylabel('Loss')\n",
        "plt.ylim([0, 1.25 * max(max(tr_loss),max(vl_loss))[0] ])\n",
        "plt.xlim([0, 15])\n",
        "\n",
        "plt.legend(loc='upper right')"
      ],
      "execution_count": 98,
      "outputs": [
        {
          "output_type": "execute_result",
          "data": {
            "text/plain": [
              "<matplotlib.legend.Legend at 0x7ff7a6134d50>"
            ]
          },
          "metadata": {
            "tags": []
          },
          "execution_count": 98
        },
        {
          "output_type": "display_data",
          "data": {
            "image/png": "[encoded data removed]",
            "text/plain": [
              "<Figure size 432x288 with 1 Axes>"
            ]
          },
          "metadata": {
            "tags": [],
            "needs_background": "light"
          }
        }
      ]
    },
    {
      "cell_type": "code",
      "metadata": {
        "colab": {
          "base_uri": "https://localhost:8080/",
          "height": 381
        },
        "id": "idTTjF91lWPH",
        "outputId": "c6373970-120d-490e-b906-b5f71c8de904"
      },
      "source": [
        "plt.figure(figsize=(9,6))\n",
        "for i in range(5):\n",
        "  oenc_op2 = occ_cnn_encoder_64.predict(occXval[i][None])[0]\n",
        "  odec_op2 = occ_cnn_decoder_64.predict(oenc_op2[None])[0]\n",
        "  retrieve_first_half(odec_op2,occXval[i])\n",
        "  plt.subplot(3,5,i+1)\n",
        "  plt.title(\"Occluded\")\n",
        "  plt.imshow(np.clip(occXval[i].reshape(height,width),0,1),cmap=\"gray\")\n",
        "  plt.subplot(3,5,i+6)\n",
        "  plt.title(\"Generated\")\n",
        "  plt.imshow(np.clip(odec_op2,0,1),cmap=\"gray\")\n",
        "  plt.subplot(3,5,i+11)\n",
        "  plt.title(\"Original\")\n",
        "  plt.imshow(np.clip(imgXval[i].reshape(height,width),0,1),cmap=\"gray\")\n",
        "plt.show()"
      ],
      "execution_count": 99,
      "outputs": [
        {
          "output_type": "display_data",
          "data": {
            "image/png": "[encoded data removed]",
            "text/plain": [
              "<Figure size 648x432 with 15 Axes>"
            ]
          },
          "metadata": {
            "tags": [],
            "needs_background": "light"
          }
        }
      ]
    },
    {
      "cell_type": "code",
      "metadata": {
        "id": "0AHPrRD2u2pg"
      },
      "source": [
        "del occ_cnn_encoder_128,occ_cnn_decoder_128,occ_deep_model_128"
      ],
      "execution_count": null,
      "outputs": []
    },
    {
      "cell_type": "markdown",
      "metadata": {
        "id": "HmU4l5agu8_0"
      },
      "source": [
        "CHANGE lATENT DIMS"
      ]
    },
    {
      "cell_type": "code",
      "metadata": {
        "id": "EV_MvbTOu2IH"
      },
      "source": [
        "tf.keras.backend.clear_session()\n",
        "occ_cnn_encoder_128, occ_cnn_decoder_128 = deep_cnn_model(IMG_SHAPE, latent_dim=128)\n",
        "\n",
        "inp_128 = tf.keras.layers.Input(IMG_SHAPE)\n",
        "occ_enc_op_128 = occ_cnn_encoder_128(inp_128)\n",
        "occ_dec_op_128 = occ_cnn_decoder_128(occ_enc_op_128)\n",
        "\n",
        "occ_deep_model_128 = tf.keras.models.Model(inp_128,occ_dec_op_128)\n",
        "occ_deep_model_128.compile(optimizer=\"adam\", loss='mse')"
      ],
      "execution_count": 100,
      "outputs": []
    },
    {
      "cell_type": "code",
      "metadata": {
        "id": "uDUVEpQ7vXFm"
      },
      "source": [
        ""
      ],
      "execution_count": null,
      "outputs": []
    },
    {
      "cell_type": "code",
      "metadata": {
        "colab": {
          "base_uri": "https://localhost:8080/"
        },
        "id": "hy4VVo6zvKXD",
        "outputId": "cf7641cd-12f3-44dd-ad29-e91a24b966bf"
      },
      "source": [
        "tr_loss=[]\n",
        "vl_loss=[]\n",
        "for i in range(15):\n",
        "  print(\"epoch : {}\".format(i+1))\n",
        "  occXtrain = generate_occluded(imgXtrain)\n",
        "  occXval = generate_occluded(imgXval)\n",
        "  l = occ_deep_model_128.fit(x=occXtrain,y=imgXtrain, epochs=1,validation_data=(occXval,imgXval))\n",
        "  tr_loss.append(l.history[\"loss\"])\n",
        "  vl_loss.append(l.history[\"val_loss\"])"
      ],
      "execution_count": 101,
      "outputs": [
        {
          "output_type": "stream",
          "text": [
            "epoch : 1\n",
            "1500/1500 [==============================] - 48s 32ms/step - loss: 0.0311 - val_loss: 0.0199\n",
            "epoch : 2\n",
            "1500/1500 [==============================] - 45s 30ms/step - loss: 0.0185 - val_loss: 0.0175\n",
            "epoch : 3\n",
            "1500/1500 [==============================] - 45s 30ms/step - loss: 0.0168 - val_loss: 0.0165\n",
            "epoch : 4\n",
            "1500/1500 [==============================] - 47s 31ms/step - loss: 0.0159 - val_loss: 0.0160\n",
            "epoch : 5\n",
            "1500/1500 [==============================] - 45s 30ms/step - loss: 0.0152 - val_loss: 0.0154\n",
            "epoch : 6\n",
            "1500/1500 [==============================] - 45s 30ms/step - loss: 0.0147 - val_loss: 0.0150\n",
            "epoch : 7\n",
            "1500/1500 [==============================] - 47s 31ms/step - loss: 0.0143 - val_loss: 0.0153\n",
            "epoch : 8\n",
            "1500/1500 [==============================] - 47s 31ms/step - loss: 0.0139 - val_loss: 0.0148\n",
            "epoch : 9\n",
            "1500/1500 [==============================] - 48s 32ms/step - loss: 0.0136 - val_loss: 0.0149\n",
            "epoch : 10\n",
            "1500/1500 [==============================] - 45s 30ms/step - loss: 0.0133 - val_loss: 0.0147\n",
            "epoch : 11\n",
            "1500/1500 [==============================] - 47s 31ms/step - loss: 0.0130 - val_loss: 0.0149\n",
            "epoch : 12\n",
            "1500/1500 [==============================] - 45s 30ms/step - loss: 0.0127 - val_loss: 0.0146\n",
            "epoch : 13\n",
            "1500/1500 [==============================] - 48s 32ms/step - loss: 0.0125 - val_loss: 0.0147\n",
            "epoch : 14\n",
            "1500/1500 [==============================] - 45s 30ms/step - loss: 0.0122 - val_loss: 0.0146\n",
            "epoch : 15\n",
            "1500/1500 [==============================] - 47s 32ms/step - loss: 0.0120 - val_loss: 0.0148\n"
          ],
          "name": "stdout"
        }
      ]
    },
    {
      "cell_type": "code",
      "metadata": {
        "colab": {
          "base_uri": "https://localhost:8080/",
          "height": 296
        },
        "id": "8CYcSuHFeruD",
        "outputId": "b94b6ca9-c557-4fa7-bfc7-8ae6cfe87987"
      },
      "source": [
        "\n",
        "epochs_range = range(15)\n",
        "\n",
        "plt.plot(epochs_range, tr_loss, label='Training Loss')\n",
        "plt.plot(epochs_range, vl_loss, label='Validation Loss')\n",
        "plt.xlabel('Epoch')\n",
        "plt.ylabel('Loss')\n",
        "plt.ylim([0, 1.25 * max(max(tr_loss),max(vl_loss))[0] ])\n",
        "plt.xlim([0, 15])\n",
        "\n",
        "plt.legend(loc='upper right')"
      ],
      "execution_count": 102,
      "outputs": [
        {
          "output_type": "execute_result",
          "data": {
            "text/plain": [
              "<matplotlib.legend.Legend at 0x7ff7a7136b50>"
            ]
          },
          "metadata": {
            "tags": []
          },
          "execution_count": 102
        },
        {
          "output_type": "display_data",
          "data": {
            "image/png": "[encoded data removed]",
            "text/plain": [
              "<Figure size 432x288 with 1 Axes>"
            ]
          },
          "metadata": {
            "tags": [],
            "needs_background": "light"
          }
        }
      ]
    },
    {
      "cell_type": "code",
      "metadata": {
        "colab": {
          "base_uri": "https://localhost:8080/"
        },
        "id": "n6dMJG-ywyVt",
        "outputId": "83b3fa16-3709-458a-e7f8-1b118552d736"
      },
      "source": [
        "tf.keras.models.save_model(occ_deep_model_128,drive_path+\"/mnist_occ_deep_model_128\")"
      ],
      "execution_count": 103,
      "outputs": [
        {
          "output_type": "stream",
          "text": [
            "INFO:tensorflow:Assets written to: /content/drive/MyDrive/ML_PROJECT/mnist_occ_deep_model_128/assets\n"
          ],
          "name": "stdout"
        }
      ]
    },
    {
      "cell_type": "code",
      "metadata": {
        "colab": {
          "base_uri": "https://localhost:8080/",
          "height": 381
        },
        "id": "izHfUvSavb-R",
        "outputId": "64822c45-63a1-47b6-d973-44219fa401db"
      },
      "source": [
        "plt.figure(figsize=(9,6))\n",
        "for i in range(5):\n",
        "  oenc_op3 = occ_cnn_encoder_128.predict(occXval[i][None])[0]\n",
        "  odec_op3 = occ_cnn_decoder_128.predict(oenc_op3[None])[0]\n",
        "  retrieve_first_half(odec_op3,occXval[i])\n",
        "  plt.subplot(3,5,i+1)\n",
        "  plt.title(\"Occluded\")\n",
        "  plt.imshow(np.clip(occXval[i].reshape(height,width),0,1),cmap=\"gray\")\n",
        "  plt.subplot(3,5,i+6)\n",
        "  plt.title(\"Generated\")\n",
        "  plt.imshow(np.clip(odec_op3,0,1))\n",
        "  plt.subplot(3,5,i+11)\n",
        "  plt.title(\"Original\")\n",
        "  plt.imshow(np.clip(imgXval[i].reshape(height,width),0,1),cmap=\"gray\")\n",
        "\n",
        "plt.show()"
      ],
      "execution_count": 105,
      "outputs": [
        {
          "output_type": "display_data",
          "data": {
            "image/png": "[encoded data removed]",
            "text/plain": [
              "<Figure size 648x432 with 15 Axes>"
            ]
          },
          "metadata": {
            "tags": [],
            "needs_background": "light"
          }
        }
      ]
    },
    {
      "cell_type": "code",
      "metadata": {
        "colab": {
          "base_uri": "https://localhost:8080/"
        },
        "id": "v2iBZFgSaONh",
        "outputId": "e2199513-d178-4b4e-c57d-b698d4847f17"
      },
      "source": [
        "occ_deep_model_128.evaluate(occXtest,imgXtest)"
      ],
      "execution_count": 106,
      "outputs": [
        {
          "output_type": "stream",
          "text": [
            "313/313 [==============================] - 3s 10ms/step - loss: 0.0147\n"
          ],
          "name": "stdout"
        },
        {
          "output_type": "execute_result",
          "data": {
            "text/plain": [
              "0.014737511985003948"
            ]
          },
          "metadata": {
            "tags": []
          },
          "execution_count": 106
        }
      ]
    },
    {
      "cell_type": "code",
      "metadata": {
        "id": "AdiSSbP9az4B"
      },
      "source": [
        "del occ_cnn_encoder_128,occ_cnn_decoder_128,occ_deep_model_128"
      ],
      "execution_count": 107,
      "outputs": []
    },
    {
      "cell_type": "code",
      "metadata": {
        "colab": {
          "base_uri": "https://localhost:8080/"
        },
        "id": "rdas4SoehIpm",
        "outputId": "32219793-506f-46d9-92c9-9a0b32aadb11"
      },
      "source": [
        "import gc\n",
        "gc.collect()"
      ],
      "execution_count": 108,
      "outputs": [
        {
          "output_type": "execute_result",
          "data": {
            "text/plain": [
              "57315"
            ]
          },
          "metadata": {
            "tags": []
          },
          "execution_count": 108
        }
      ]
    },
    {
      "cell_type": "markdown",
      "metadata": {
        "id": "oS7x3Dxaa1H_"
      },
      "source": [
        "#Latent = 512"
      ]
    },
    {
      "cell_type": "code",
      "metadata": {
        "id": "pmbV1A2vHrFJ"
      },
      "source": [
        ""
      ],
      "execution_count": null,
      "outputs": []
    },
    {
      "cell_type": "code",
      "metadata": {
        "id": "FHcAKK0EmaRh"
      },
      "source": [
        ""
      ],
      "execution_count": null,
      "outputs": []
    },
    {
      "cell_type": "code",
      "metadata": {
        "id": "-PNWwc6pmuPx"
      },
      "source": [
        ""
      ],
      "execution_count": null,
      "outputs": []
    },
    {
      "cell_type": "code",
      "metadata": {
        "colab": {
          "base_uri": "https://localhost:8080/"
        },
        "id": "6WGwxkdrJKKd",
        "outputId": "010501f0-f7ad-4fd0-d060-90b4825f8412"
      },
      "source": [
        "# 35*35"
      ],
      "execution_count": null,
      "outputs": [
        {
          "output_type": "execute_result",
          "data": {
            "text/plain": [
              "1225"
            ]
          },
          "metadata": {
            "tags": []
          },
          "execution_count": 14
        }
      ]
    },
    {
      "cell_type": "code",
      "metadata": {
        "id": "xqLBiwYkaz0x"
      },
      "source": [
        "tf.keras.backend.clear_session()\n",
        "occ_cnn_encoder_512, occ_cnn_decoder_512 = deep_cnn_model(IMG_SHAPE, latent_dim=512)\n",
        "\n",
        "inp_512 = tf.keras.layers.Input(IMG_SHAPE)\n",
        "occ_enc_op_512 = occ_cnn_encoder_512(inp_512)\n",
        "occ_dec_op_512 = occ_cnn_decoder_512(occ_enc_op_512)\n",
        "\n",
        "occ_deep_model_512 = tf.keras.models.Model(inp_512,occ_dec_op_512)\n",
        "occ_deep_model_512.compile(optimizer=\"adam\", loss='mse')"
      ],
      "execution_count": 109,
      "outputs": []
    },
    {
      "cell_type": "code",
      "metadata": {
        "id": "ksMIDpA9aHUl"
      },
      "source": [
        "del occ_cnn_encoder_512,occ_cnn_decoder_512,occ_deep_model_512"
      ],
      "execution_count": null,
      "outputs": []
    },
    {
      "cell_type": "code",
      "metadata": {
        "colab": {
          "base_uri": "https://localhost:8080/"
        },
        "id": "5M48zqtNazxO",
        "outputId": "409652b9-292f-4956-b34e-f85700be1f7c"
      },
      "source": [
        "tr_loss=[]\n",
        "vl_loss=[]\n",
        "for epoch in range(15):\n",
        "  print(\"epoch : {}\".format(epoch+1))\n",
        "  occXtrain = generate_occluded(imgXtrain)\n",
        "  occXval = generate_occluded(imgXval)\n",
        "  l = occ_deep_model_512.fit(x=occXtrain,y=imgXtrain, epochs=1,validation_data=(occXval,imgXval))\n",
        "  tr_loss.append(l.history[\"loss\"])\n",
        "  vl_loss.append(l.history[\"val_loss\"])"
      ],
      "execution_count": 110,
      "outputs": [
        {
          "output_type": "stream",
          "text": [
            "epoch : 1\n",
            "1500/1500 [==============================] - 49s 32ms/step - loss: 0.0279 - val_loss: 0.0188\n",
            "epoch : 2\n",
            "1500/1500 [==============================] - 48s 32ms/step - loss: 0.0176 - val_loss: 0.0169\n",
            "epoch : 3\n",
            "1500/1500 [==============================] - 48s 32ms/step - loss: 0.0163 - val_loss: 0.0160\n",
            "epoch : 4\n",
            "1500/1500 [==============================] - 48s 32ms/step - loss: 0.0155 - val_loss: 0.0153\n",
            "epoch : 5\n",
            "1500/1500 [==============================] - 48s 32ms/step - loss: 0.0149 - val_loss: 0.0157\n",
            "epoch : 6\n",
            "1500/1500 [==============================] - 45s 30ms/step - loss: 0.0145 - val_loss: 0.0150\n",
            "epoch : 7\n",
            "1500/1500 [==============================] - 45s 30ms/step - loss: 0.0141 - val_loss: 0.0152\n",
            "epoch : 8\n",
            "1500/1500 [==============================] - 47s 32ms/step - loss: 0.0138 - val_loss: 0.0148\n",
            "epoch : 9\n",
            "1500/1500 [==============================] - 45s 30ms/step - loss: 0.0136 - val_loss: 0.0149\n",
            "epoch : 10\n",
            "1500/1500 [==============================] - 48s 32ms/step - loss: 0.0133 - val_loss: 0.0148\n",
            "epoch : 11\n",
            "1500/1500 [==============================] - 48s 32ms/step - loss: 0.0131 - val_loss: 0.0147\n",
            "epoch : 12\n",
            "1500/1500 [==============================] - 48s 32ms/step - loss: 0.0128 - val_loss: 0.0146\n",
            "epoch : 13\n",
            "1500/1500 [==============================] - 48s 32ms/step - loss: 0.0126 - val_loss: 0.0146\n",
            "epoch : 14\n",
            "1500/1500 [==============================] - 45s 30ms/step - loss: 0.0124 - val_loss: 0.0148\n",
            "epoch : 15\n",
            "1500/1500 [==============================] - 48s 32ms/step - loss: 0.0122 - val_loss: 0.0146\n"
          ],
          "name": "stdout"
        }
      ]
    },
    {
      "cell_type": "code",
      "metadata": {
        "colab": {
          "base_uri": "https://localhost:8080/",
          "height": 381
        },
        "id": "gSHAx4hCazrd",
        "outputId": "79741289-7344-493f-d195-df2f78ade7a6"
      },
      "source": [
        "plt.figure(figsize=(9,6))\n",
        "for i in range(5):\n",
        "  oenc_op4 = occ_cnn_encoder_512.predict(occXval[i][None])[0]\n",
        "  odec_512 = occ_cnn_decoder_512.predict(oenc_op4[None])[0]\n",
        "  retrieve_first_half(odec_512,occXval[i])\n",
        "  plt.subplot(3,5,i+1)\n",
        "  plt.title(\"Occluded\")\n",
        "  plt.imshow(np.clip(occXval[i].reshape(height,width),0,1),cmap=\"gray\")\n",
        "  plt.subplot(3,5,i+6)\n",
        "  plt.title(\"Generated\")\n",
        "  plt.imshow(np.clip(odec_512,0,1))\n",
        "  plt.subplot(3,5,i+11)\n",
        "  plt.title(\"Original\")\n",
        "  plt.imshow(np.clip(imgXval[i].reshape(height,width),0,1),cmap=\"gray\")\n",
        "\n",
        "plt.show()"
      ],
      "execution_count": 111,
      "outputs": [
        {
          "output_type": "display_data",
          "data": {
            "image/png": "[encoded data removed]",
            "text/plain": [
              "<Figure size 648x432 with 15 Axes>"
            ]
          },
          "metadata": {
            "tags": [],
            "needs_background": "light"
          }
        }
      ]
    },
    {
      "cell_type": "code",
      "metadata": {
        "colab": {
          "base_uri": "https://localhost:8080/"
        },
        "id": "JDtRQnwCfVhP",
        "outputId": "d55aace5-48e5-40a6-9cf4-3c061b5fa873"
      },
      "source": [
        "tf.keras.models.save_model(occ_deep_model_512,drive_path+\"/mnist_occ_deep_model_512\")"
      ],
      "execution_count": 112,
      "outputs": [
        {
          "output_type": "stream",
          "text": [
            "INFO:tensorflow:Assets written to: /content/drive/MyDrive/ML_PROJECT/mnist_occ_deep_model_512/assets\n"
          ],
          "name": "stdout"
        }
      ]
    },
    {
      "cell_type": "code",
      "metadata": {
        "colab": {
          "base_uri": "https://localhost:8080/"
        },
        "id": "tr5HeSMefDwE",
        "outputId": "1f1b6dbf-fab2-4eea-c9d4-2392ae76ad51"
      },
      "source": [
        "occ_deep_model_512.evaluate(occXtest,imgXtest)"
      ],
      "execution_count": 113,
      "outputs": [
        {
          "output_type": "stream",
          "text": [
            "313/313 [==============================] - 3s 10ms/step - loss: 0.0146\n"
          ],
          "name": "stdout"
        },
        {
          "output_type": "execute_result",
          "data": {
            "text/plain": [
              "0.014567428268492222"
            ]
          },
          "metadata": {
            "tags": []
          },
          "execution_count": 113
        }
      ]
    },
    {
      "cell_type": "code",
      "metadata": {
        "colab": {
          "base_uri": "https://localhost:8080/",
          "height": 296
        },
        "id": "d85rgZFQsevF",
        "outputId": "bfec513f-92b4-4423-ab6b-81acf802ba01"
      },
      "source": [
        "\n",
        "epochs_range = range(15)\n",
        "\n",
        "plt.plot(epochs_range, tr_loss, label='Training Loss')\n",
        "plt.plot(epochs_range, vl_loss, label='Validation Loss')\n",
        "plt.xlabel('Epoch')\n",
        "plt.ylabel('Loss')\n",
        "plt.ylim([0, 1.25 * max(max(tr_loss),max(vl_loss))[0] ])\n",
        "plt.xlim([0, 15])\n",
        "\n",
        "plt.legend(loc='upper right')"
      ],
      "execution_count": 114,
      "outputs": [
        {
          "output_type": "execute_result",
          "data": {
            "text/plain": [
              "<matplotlib.legend.Legend at 0x7ff7a1bb1910>"
            ]
          },
          "metadata": {
            "tags": []
          },
          "execution_count": 114
        },
        {
          "output_type": "display_data",
          "data": {
            "image/png": "[encoded data removed]",
            "text/plain": [
              "<Figure size 432x288 with 1 Axes>"
            ]
          },
          "metadata": {
            "tags": [],
            "needs_background": "light"
          }
        }
      ]
    }
  ]
}